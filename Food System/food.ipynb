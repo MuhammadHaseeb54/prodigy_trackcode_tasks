{
 "cells": [
  {
   "cell_type": "code",
   "execution_count": null,
   "metadata": {},
   "outputs": [],
   "source": [
    "# Task 05\n",
    "# Food system"
   ]
  },
  {
   "cell_type": "code",
   "execution_count": 19,
   "metadata": {},
   "outputs": [],
   "source": [
    "import numpy as np\n",
    "import pandas as pd\n",
    "import matplotlib.pyplot as plt\n",
    "import seaborn as sns\n",
    "import tensorflow as tf\n",
    "import os\n",
    "import cv2\n",
    "import random\n",
    "from tensorflow.keras.preprocessing.image import ImageDataGenerator\n",
    "from tensorflow.keras.models import Sequential\n",
    "from tensorflow.keras.layers import Conv2D, MaxPooling2D, Flatten, Dense, Dropout\n",
    "from tensorflow.keras.optimizers import Adam\n",
    "from sklearn.model_selection import train_test_split\n",
    "from sklearn.preprocessing import LabelEncoder\n"
   ]
  },
  {
   "cell_type": "code",
   "execution_count": null,
   "metadata": {},
   "outputs": [],
   "source": [
    "# Define dataset path\n",
    "DATASET_PATH = \"food-101\"  \n",
    "# Load dataset labels\n",
    "labels = pd.read_csv(os.path.join(DATASET_PATH, \"food-101/meta/train.txt\"), header=None)\n",
    "labels.columns = [\"Image_Path\"]\n",
    "labels[\"Food_Label\"] = labels[\"Image_Path\"].apply(lambda x: x.split(\"/\")[0])"
   ]
  },
  {
   "cell_type": "code",
   "execution_count": null,
   "metadata": {},
   "outputs": [],
   "source": [
    "# Encode labels\n",
    "l_encoder = LabelEncoder()\n",
    "labels[\"Encoded_Label\"] = l_encoder.fit_transform(labels[\"Food_Label\"])"
   ]
  },
  {
   "cell_type": "code",
   "execution_count": null,
   "metadata": {},
   "outputs": [],
   "source": [
    "# Define image size and batch size\n",
    "IMG_SIZE = 128\n",
    "BATCH_SIZE = 32\n",
    "NUM_CLASSES = len(l_encoder.classes_)"
   ]
  },
  {
   "cell_type": "code",
   "execution_count": null,
   "metadata": {},
   "outputs": [],
   "source": [
    "# Function to load and preprocess images\n",
    "def load_image(image_path):\n",
    "    image = cv2.imread(os.path.join(DATASET_PATH, \"food-101/images\", image_path + \".jpg\"))\n",
    "    image = cv2.cvtColor(image, cv2.COLOR_BGR2RGB)\n",
    "    image = cv2.resize(image, (IMG_SIZE, IMG_SIZE))\n",
    "    return image / 255.0  "
   ]
  },
  {
   "cell_type": "code",
   "execution_count": null,
   "metadata": {},
   "outputs": [],
   "source": [
    "def load_image(image_path):\n",
    "    img_path = os.path.join(DATASET_PATH, \"food-101/images\", image_path + \".jpg\")\n",
    "    \n",
    "    if not os.path.exists(img_path):\n",
    "        print(f\"Warning: File not found - {img_path}\")\n",
    "        return np.zeros((IMG_SIZE, IMG_SIZE, 3)) \n",
    "    \n",
    "    image = cv2.imread(img_path)\n",
    "    if image is None:\n",
    "        print(f\"Error loading image: {img_path}\")\n",
    "        return np.zeros((IMG_SIZE, IMG_SIZE, 3))\n",
    "    \n",
    "    image = cv2.cvtColor(image, cv2.COLOR_BGR2RGB)\n",
    "    image = cv2.resize(image, (IMG_SIZE, IMG_SIZE))\n",
    "    return image / 255.0\n"
   ]
  },
  {
   "cell_type": "code",
   "execution_count": null,
   "metadata": {},
   "outputs": [
    {
     "name": "stdout",
     "output_type": "stream",
     "text": [
      "['.DS_Store', 'apple_pie', 'baby_back_ribs', 'baklava', 'beef_carpaccio', 'beef_tartare', 'beet_salad', 'beignets', 'bibimbap', 'bread_pudding']\n"
     ]
    }
   ],
   "source": [
    "import os\n",
    "print(os.listdir(os.path.join(DATASET_PATH, \"food-101/images\"))[:10])  # List first 10 files"
   ]
  },
  {
   "cell_type": "code",
   "execution_count": null,
   "metadata": {},
   "outputs": [],
   "source": [
    "def load_image(image_path):\n",
    "    for ext in [\".jpg\", \".jpeg\", \".png\"]:\n",
    "        img_path = os.path.join(DATASET_PATH, \"food-101/images\", image_path + ext)\n",
    "        if os.path.exists(img_path):\n",
    "            image = cv2.imread(img_path)\n",
    "            if image is not None:\n",
    "                image = cv2.cvtColor(image, cv2.COLOR_BGR2RGB)\n",
    "                image = cv2.resize(image, (IMG_SIZE, IMG_SIZE))\n",
    "                return image / 255.0\n",
    "    print(f\"File not found: {image_path}\")\n",
    "    return np.zeros((IMG_SIZE, IMG_SIZE, 3))"
   ]
  },
  {
   "cell_type": "code",
   "execution_count": null,
   "metadata": {},
   "outputs": [],
   "source": [
    "sample_size = min(5000, len(labels))  # Ensure sample_size is within range\n",
    "sample_images = random.sample(list(labels[\"Image_Path\"]), sample_size)"
   ]
  },
  {
   "cell_type": "code",
   "execution_count": null,
   "metadata": {},
   "outputs": [
    {
     "name": "stdout",
     "output_type": "stream",
     "text": [
      "Checking: food-101\\food-101/images\\ravioli/716121.jpg\n",
      "Image Loaded: True\n"
     ]
    }
   ],
   "source": [
    "img_path = os.path.join(DATASET_PATH, \"food-101/images\", sample_images[0] + \".jpg\")\n",
    "print(f\"Checking: {img_path}\")\n",
    "image = cv2.imread(img_path)\n",
    "print(\"Image Loaded:\", image is not None)"
   ]
  },
  {
   "cell_type": "code",
   "execution_count": null,
   "metadata": {},
   "outputs": [
    {
     "name": "stdout",
     "output_type": "stream",
     "text": [
      "X shape: (5000, 128, 128, 3)\n",
      "y shape: (5000,)\n",
      "X_train shape: (4000, 128, 128, 3)\n",
      "y_train shape: (4000,)\n",
      "X_val shape: (1000, 128, 128, 3)\n",
      "y_val shape: (1000,)\n"
     ]
    }
   ],
   "source": [
    "X = np.array([load_image(img) for img in sample_images])\n",
    "y = labels.loc[labels[\"Image_Path\"].isin(sample_images), \"Encoded_Label\"].values\n",
    "print(\"X shape:\", X.shape)\n",
    "print(\"y shape:\", y.shape)"
   ]
  },
  {
   "cell_type": "code",
   "execution_count": null,
   "metadata": {},
   "outputs": [],
   "source": [
    "# Split the dataset into training and validation sets\n",
    "X_train, X_test, y_train, y_test = train_test_split(X, y, test_size=0.2, random_state=42, stratify=y)\n",
    "print(\"X_train shape:\", X_train.shape)\n",
    "print(\"y_train shape:\", y_train.shape)\n",
    "print(\"X_val shape:\", X_test.shape)\n",
    "print(\"y_val shape:\", y_test.shape)"
   ]
  },
  {
   "cell_type": "code",
   "execution_count": 35,
   "metadata": {},
   "outputs": [
    {
     "name": "stderr",
     "output_type": "stream",
     "text": [
      "C:\\Users\\Muhammad Haseeb\\AppData\\Roaming\\Python\\Python312\\site-packages\\keras\\src\\layers\\convolutional\\base_conv.py:107: UserWarning: Do not pass an `input_shape`/`input_dim` argument to a layer. When using Sequential models, prefer using an `Input(shape)` object as the first layer in the model instead.\n",
      "  super().__init__(activity_regularizer=activity_regularizer, **kwargs)\n"
     ]
    }
   ],
   "source": [
    "# Build CNN model\n",
    "model = Sequential([\n",
    "    Conv2D(32, (3, 3), activation=\"relu\", input_shape=(IMG_SIZE, IMG_SIZE, 3)),\n",
    "    MaxPooling2D(2, 2),\n",
    "    Conv2D(64, (3, 3), activation=\"relu\"),\n",
    "    MaxPooling2D(2, 2),\n",
    "    Conv2D(128, (3, 3), activation=\"relu\"),\n",
    "    MaxPooling2D(2, 2),\n",
    "    Flatten(),\n",
    "    Dense(512, activation=\"relu\"),\n",
    "    Dropout(0.5),\n",
    "    Dense(NUM_CLASSES, activation=\"softmax\")\n",
    "])\n",
    "\n",
    "# Compile model\n",
    "model.compile(optimizer=Adam(learning_rate=0.001), loss=\"sparse_categorical_crossentropy\", metrics=[\"accuracy\"])"
   ]
  },
  {
   "cell_type": "code",
   "execution_count": 36,
   "metadata": {},
   "outputs": [
    {
     "name": "stdout",
     "output_type": "stream",
     "text": [
      "Epoch 1/10\n",
      "\u001b[1m125/125\u001b[0m \u001b[32m━━━━━━━━━━━━━━━━━━━━\u001b[0m\u001b[37m\u001b[0m \u001b[1m126s\u001b[0m 918ms/step - accuracy: 0.0075 - loss: 4.6377 - val_accuracy: 0.0140 - val_loss: 4.6129\n",
      "Epoch 2/10\n",
      "\u001b[1m125/125\u001b[0m \u001b[32m━━━━━━━━━━━━━━━━━━━━\u001b[0m\u001b[37m\u001b[0m \u001b[1m88s\u001b[0m 695ms/step - accuracy: 0.0087 - loss: 4.6133 - val_accuracy: 0.0130 - val_loss: 4.6108\n",
      "Epoch 3/10\n",
      "\u001b[1m125/125\u001b[0m \u001b[32m━━━━━━━━━━━━━━━━━━━━\u001b[0m\u001b[37m\u001b[0m \u001b[1m135s\u001b[0m 643ms/step - accuracy: 0.0122 - loss: 4.6118 - val_accuracy: 0.0140 - val_loss: 4.6093\n",
      "Epoch 4/10\n",
      "\u001b[1m125/125\u001b[0m \u001b[32m━━━━━━━━━━━━━━━━━━━━\u001b[0m\u001b[37m\u001b[0m \u001b[1m82s\u001b[0m 658ms/step - accuracy: 0.0100 - loss: 4.6103 - val_accuracy: 0.0130 - val_loss: 4.6065\n",
      "Epoch 5/10\n",
      "\u001b[1m125/125\u001b[0m \u001b[32m━━━━━━━━━━━━━━━━━━━━\u001b[0m\u001b[37m\u001b[0m \u001b[1m90s\u001b[0m 717ms/step - accuracy: 0.0173 - loss: 4.5872 - val_accuracy: 0.0160 - val_loss: 4.6215\n",
      "Epoch 6/10\n",
      "\u001b[1m125/125\u001b[0m \u001b[32m━━━━━━━━━━━━━━━━━━━━\u001b[0m\u001b[37m\u001b[0m \u001b[1m86s\u001b[0m 691ms/step - accuracy: 0.0350 - loss: 4.4625 - val_accuracy: 0.0090 - val_loss: 4.6753\n",
      "Epoch 7/10\n",
      "\u001b[1m125/125\u001b[0m \u001b[32m━━━━━━━━━━━━━━━━━━━━\u001b[0m\u001b[37m\u001b[0m \u001b[1m106s\u001b[0m 851ms/step - accuracy: 0.0926 - loss: 4.1444 - val_accuracy: 0.0120 - val_loss: 4.9302\n",
      "Epoch 8/10\n",
      "\u001b[1m125/125\u001b[0m \u001b[32m━━━━━━━━━━━━━━━━━━━━\u001b[0m\u001b[37m\u001b[0m \u001b[1m64s\u001b[0m 509ms/step - accuracy: 0.2135 - loss: 3.4881 - val_accuracy: 0.0090 - val_loss: 5.3733\n",
      "Epoch 9/10\n",
      "\u001b[1m125/125\u001b[0m \u001b[32m━━━━━━━━━━━━━━━━━━━━\u001b[0m\u001b[37m\u001b[0m \u001b[1m106s\u001b[0m 700ms/step - accuracy: 0.4162 - loss: 2.5162 - val_accuracy: 0.0080 - val_loss: 6.4296\n",
      "Epoch 10/10\n",
      "\u001b[1m125/125\u001b[0m \u001b[32m━━━━━━━━━━━━━━━━━━━━\u001b[0m\u001b[37m\u001b[0m \u001b[1m95s\u001b[0m 758ms/step - accuracy: 0.6240 - loss: 1.6508 - val_accuracy: 0.0050 - val_loss: 7.6319\n"
     ]
    }
   ],
   "source": [
    "# Train the model\n",
    "history = model.fit(X_train, y_train, validation_data=(X_test, y_test), epochs=10, batch_size=BATCH_SIZE)"
   ]
  },
  {
   "cell_type": "code",
   "execution_count": 37,
   "metadata": {},
   "outputs": [
    {
     "data": {
      "image/png": "[encoded data removed]",
      "text/plain": [
       "<Figure size 1000x500 with 1 Axes>"
      ]
     },
     "metadata": {},
     "output_type": "display_data"
    }
   ],
   "source": [
    "# Plot training history\n",
    "plt.figure(figsize=(10, 5))\n",
    "plt.plot(history.history[\"accuracy\"], label=\"Train Accuracy\", color=\"blue\")\n",
    "plt.plot(history.history[\"val_accuracy\"], label=\"Validation Accuracy\", color=\"red\")\n",
    "plt.xlabel(\"Epochs\")\n",
    "plt.ylabel(\"Accuracy\")\n",
    "plt.title(\"Model Accuracy Over Epochs\")\n",
    "plt.legend()\n",
    "plt.show()"
   ]
  },
  {
   "cell_type": "code",
   "execution_count": 38,
   "metadata": {},
   "outputs": [],
   "source": [
    "# Function to predict food item and estimate calories\n",
    "food_calories = {\n",
    "    \"apple_pie\": 320,\n",
    "    \"club_sandwich\": 300,\n",
    "    \"french_fries\": 365,\n",
    "    \"pizza\": 285,\n",
    "    \"sushi\": 200,\n",
    "}  "
   ]
  },
  {
   "cell_type": "code",
   "execution_count": 39,
   "metadata": {},
   "outputs": [],
   "source": [
    "# Add more food items\n",
    "\n",
    "def predict_food(image_path):\n",
    "    img = load_image(image_path)\n",
    "    img = np.expand_dims(img, axis=0)  # Reshape for prediction\n",
    "    prediction = model.predict(img)\n",
    "    label_index = np.argmax(prediction)\n",
    "    food_name = encoder.inverse_transform([label_index])[0]\n",
    "    calorie_estimate = food_calories.get(food_name, \"Unknown\")\n",
    "    return food_name, calorie_estimate"
   ]
  },
  {
   "cell_type": "code",
   "execution_count": 40,
   "metadata": {},
   "outputs": [
    {
     "name": "stdout",
     "output_type": "stream",
     "text": [
      "\u001b[1m1/1\u001b[0m \u001b[32m━━━━━━━━━━━━━━━━━━━━\u001b[0m\u001b[37m\u001b[0m \u001b[1m0s\u001b[0m 229ms/step\n",
      "Predicted Food: ceviche, Estimated Calories: Unknown\n"
     ]
    }
   ],
   "source": [
    "# Example prediction\n",
    "test_img = random.choice(sample_images)\n",
    "food, calories = predict_food(test_img)\n",
    "print(f\"Predicted Food: {food}, Estimated Calories: {calories}\")\n"
   ]
  },
  {
   "cell_type": "code",
   "execution_count": null,
   "metadata": {},
   "outputs": [],
   "source": []
  },
  {
   "cell_type": "code",
   "execution_count": null,
   "metadata": {},
   "outputs": [],
   "source": []
  }
 ],
 "metadata": {
  "kernelspec": {
   "display_name": "Python 3",
   "language": "python",
   "name": "python3"
  },
  "language_info": {
   "codemirror_mode": {
    "name": "ipython",
    "version": 3
   },
   "file_extension": ".py",
   "mimetype": "text/x-python",
   "name": "python",
   "nbconvert_exporter": "python",
   "pygments_lexer": "ipython3",
   "version": "3.12.9"
  }
 },
 "nbformat": 4,
 "nbformat_minor": 2
}
